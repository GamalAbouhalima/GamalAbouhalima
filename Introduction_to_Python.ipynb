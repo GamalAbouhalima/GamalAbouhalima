{
  "cells": [
    {
      "cell_type": "markdown",
      "metadata": {
        "id": "view-in-github",
        "colab_type": "text"
      },
      "source": [
        "<a href=\"https://colab.research.google.com/github/GamalAbouhalima/Introduction-to-Python/blob/main/Introduction_to_Python.ipynb\" target=\"_parent\"><img src=\"https://colab.research.google.com/assets/colab-badge.svg\" alt=\"Open In Colab\"/></a>"
      ]
    },
    {
      "cell_type": "markdown",
      "metadata": {
        "id": "g-OOTsJIaIgd"
      },
      "source": [
        "#Introduction to python\n"
      ]
    },
    {
      "cell_type": "code",
      "execution_count": null,
      "metadata": {
        "colab": {
          "base_uri": "https://localhost:8080/"
        },
        "id": "HBOneDeISPo0",
        "outputId": "37ac476f-36ef-4bd6-a3e9-169adf9b8de1"
      },
      "outputs": [
        {
          "name": "stdout",
          "output_type": "stream",
          "text": [
            "Hello Gamal\n"
          ]
        }
      ],
      "source": [
        "print(\"Hello\",\"Gamal\")"
      ]
    },
    {
      "cell_type": "code",
      "execution_count": null,
      "metadata": {
        "colab": {
          "base_uri": "https://localhost:8080/"
        },
        "id": "5Phwe_MpWcGU",
        "outputId": "56f1357b-0f61-4b12-ccf5-2380c5051aa9"
      },
      "outputs": [
        {
          "name": "stdout",
          "output_type": "stream",
          "text": [
            "What is Your Name? Gamal\n",
            "Hello Gamal\n"
          ]
        }
      ],
      "source": [
        "name=input(\"What is Your Name? \")\n",
        "print (\"Hello\",name)"
      ]
    },
    {
      "cell_type": "code",
      "execution_count": null,
      "metadata": {
        "colab": {
          "base_uri": "https://localhost:8080/"
        },
        "id": "0p7bIVN9XSQp",
        "outputId": "067a342d-d1ab-4089-841e-f9d44db1f5f5"
      },
      "outputs": [
        {
          "name": "stdout",
          "output_type": "stream",
          "text": [
            "Enter number One: 10\n",
            "Enter number Two: 12\n",
            "Sum =  22\n"
          ]
        }
      ],
      "source": [
        "num1=int (input(\"Enter number One: \"))\n",
        "num2=int (input(\"Enter number Two: \"))\n",
        "print(\"Sum = \",num1+num2)"
      ]
    },
    {
      "cell_type": "code",
      "execution_count": null,
      "metadata": {
        "colab": {
          "base_uri": "https://localhost:8080/"
        },
        "id": "ie_cjXhoYTep",
        "outputId": "9ba8f195-74da-4438-f9ef-493ffa2ad51f"
      },
      "outputs": [
        {
          "name": "stdout",
          "output_type": "stream",
          "text": [
            "25\n"
          ]
        }
      ],
      "source": [
        "x=\"Gamal\"\n",
        "x=25\n",
        "print(x)"
      ]
    },
    {
      "cell_type": "markdown",
      "metadata": {
        "id": "ZEqvl3MHajEh"
      },
      "source": [
        "#Type Conversion\n"
      ]
    },
    {
      "cell_type": "code",
      "execution_count": null,
      "metadata": {
        "colab": {
          "base_uri": "https://localhost:8080/"
        },
        "id": "2JGzmcSmY59b",
        "outputId": "198f1c5a-0126-4d6e-9b44-22fe629fbffe"
      },
      "outputs": [
        {
          "name": "stdout",
          "output_type": "stream",
          "text": [
            "2.0\n"
          ]
        }
      ],
      "source": [
        "x=2\n",
        "x=float(x)\n",
        "print(x)"
      ]
    },
    {
      "cell_type": "code",
      "execution_count": null,
      "metadata": {
        "colab": {
          "base_uri": "https://localhost:8080/"
        },
        "id": "tmvq-NhCZLns",
        "outputId": "4381c37b-6bf5-4841-c33c-c42aa46c1e94"
      },
      "outputs": [
        {
          "name": "stdout",
          "output_type": "stream",
          "text": [
            "3\n"
          ]
        }
      ],
      "source": [
        "x=3.9\n",
        "x=int(x)\n",
        "print(x)"
      ]
    },
    {
      "cell_type": "code",
      "execution_count": null,
      "metadata": {
        "colab": {
          "base_uri": "https://localhost:8080/"
        },
        "id": "JIBhjcjZZYEC",
        "outputId": "8c00f287-47af-4548-e0be-b051dad06510"
      },
      "outputs": [
        {
          "name": "stdout",
          "output_type": "stream",
          "text": [
            "1\n"
          ]
        }
      ],
      "source": [
        "b=True\n",
        "b=int(b)\n",
        "print(b)"
      ]
    },
    {
      "cell_type": "code",
      "execution_count": null,
      "metadata": {
        "colab": {
          "base_uri": "https://localhost:8080/"
        },
        "id": "MH_r8WZVZf_l",
        "outputId": "27e9e463-589e-4b73-fc3d-b295f5ca5e11"
      },
      "outputs": [
        {
          "name": "stdout",
          "output_type": "stream",
          "text": [
            "1.0\n"
          ]
        }
      ],
      "source": [
        "c=True\n",
        "c=float(c)\n",
        "print(c)"
      ]
    },
    {
      "cell_type": "code",
      "execution_count": null,
      "metadata": {
        "colab": {
          "base_uri": "https://localhost:8080/"
        },
        "id": "61ENyugiZyTY",
        "outputId": "de46bbcb-ea9e-4025-9187-a11ad4e7566e"
      },
      "outputs": [
        {
          "name": "stdout",
          "output_type": "stream",
          "text": [
            "True\n"
          ]
        }
      ],
      "source": [
        "d=9\n",
        "d=bool(d)\n",
        "print(d)"
      ]
    },
    {
      "cell_type": "code",
      "execution_count": null,
      "metadata": {
        "colab": {
          "base_uri": "https://localhost:8080/"
        },
        "id": "MrCrKelbZ6J9",
        "outputId": "307d3c10-a73f-4907-8763-e34495d8d4ae"
      },
      "outputs": [
        {
          "name": "stdout",
          "output_type": "stream",
          "text": [
            "False\n"
          ]
        }
      ],
      "source": [
        "d=0\n",
        "d=bool(d)\n",
        "print(d)"
      ]
    },
    {
      "cell_type": "code",
      "execution_count": null,
      "metadata": {
        "colab": {
          "base_uri": "https://localhost:8080/"
        },
        "id": "dPHeIQFMaAcF",
        "outputId": "6b91e138-88fc-4eca-beb9-145c5ab434f8"
      },
      "outputs": [
        {
          "name": "stdout",
          "output_type": "stream",
          "text": [
            "True\n"
          ]
        }
      ],
      "source": [
        "d=-9\n",
        "d=bool(d)\n",
        "print(d)"
      ]
    },
    {
      "cell_type": "code",
      "execution_count": null,
      "metadata": {
        "colab": {
          "base_uri": "https://localhost:8080/"
        },
        "id": "hv97kTc5aNhM",
        "outputId": "0f080257-4b61-49dc-841b-184c532c577e"
      },
      "outputs": [
        {
          "name": "stdout",
          "output_type": "stream",
          "text": [
            "8\n"
          ]
        }
      ],
      "source": [
        "x=8\n",
        "x=str(x)\n",
        "print(x)"
      ]
    },
    {
      "cell_type": "code",
      "execution_count": null,
      "metadata": {
        "colab": {
          "base_uri": "https://localhost:8080/",
          "height": 35
        },
        "id": "kBTCVq0va2BN",
        "outputId": "cd2c2be7-3363-4635-a94b-c2be28c5c9de"
      },
      "outputs": [
        {
          "data": {
            "application/vnd.google.colaboratory.intrinsic+json": {
              "type": "string"
            },
            "text/plain": [
              "'85'"
            ]
          },
          "execution_count": 20,
          "metadata": {},
          "output_type": "execute_result"
        }
      ],
      "source": [
        "y=x+\"5\"\n",
        "y"
      ]
    },
    {
      "cell_type": "markdown",
      "metadata": {
        "id": "nTo6GNvpcqzn"
      },
      "source": [
        "#Convert from STring to Boolean\n"
      ]
    },
    {
      "cell_type": "code",
      "execution_count": null,
      "metadata": {
        "colab": {
          "base_uri": "https://localhost:8080/"
        },
        "id": "Hg6kJ-HxbLYS",
        "outputId": "719b45f4-026c-4dd2-9878-0c932f331371"
      },
      "outputs": [
        {
          "name": "stdout",
          "output_type": "stream",
          "text": [
            "True\n"
          ]
        }
      ],
      "source": [
        "x=\"Hello\"\n",
        "x=bool(x)\n",
        "print(x)"
      ]
    },
    {
      "cell_type": "code",
      "execution_count": null,
      "metadata": {
        "colab": {
          "base_uri": "https://localhost:8080/"
        },
        "id": "bY3gVJPJbmwo",
        "outputId": "72b35d0c-4a8e-4ca4-8e6e-e52457eb0f7c"
      },
      "outputs": [
        {
          "name": "stdout",
          "output_type": "stream",
          "text": [
            "True\n"
          ]
        }
      ],
      "source": [
        "x=\"false\"\n",
        "x=bool(x)\n",
        "print(x)"
      ]
    },
    {
      "cell_type": "markdown",
      "metadata": {
        "id": "XO5bCD-PcZi6"
      },
      "source": [
        "Convert from String to int or float\n"
      ]
    },
    {
      "cell_type": "code",
      "execution_count": null,
      "metadata": {
        "colab": {
          "base_uri": "https://localhost:8080/"
        },
        "id": "xg7Yf8yxcx03",
        "outputId": "9b1b9b42-0c63-407b-f148-054c8152af1e"
      },
      "outputs": [
        {
          "name": "stdout",
          "output_type": "stream",
          "text": [
            "10\n"
          ]
        }
      ],
      "source": [
        "x=\"5\"\n",
        "x=int(x)\n",
        "print(x+5)"
      ]
    },
    {
      "cell_type": "code",
      "execution_count": null,
      "metadata": {
        "colab": {
          "base_uri": "https://localhost:8080/"
        },
        "id": "x3GtqpFydZ_E",
        "outputId": "30c54573-bc35-48bb-b45a-91228e30a150"
      },
      "outputs": [
        {
          "name": "stdout",
          "output_type": "stream",
          "text": [
            "10.0\n"
          ]
        }
      ],
      "source": [
        "x=\"5\"\n",
        "x=float(x)\n",
        "print(x+5)"
      ]
    },
    {
      "cell_type": "code",
      "execution_count": null,
      "metadata": {
        "colab": {
          "base_uri": "https://localhost:8080/",
          "height": 176
        },
        "id": "B7EAzJygddiW",
        "outputId": "88f29421-d21f-49a9-a8c4-503053ff0127"
      },
      "outputs": [
        {
          "ename": "ValueError",
          "evalue": "invalid literal for int() with base 10: '5.5'",
          "output_type": "error",
          "traceback": [
            "\u001b[0;31m---------------------------------------------------------------------------\u001b[0m",
            "\u001b[0;31mValueError\u001b[0m                                Traceback (most recent call last)",
            "\u001b[0;32m<ipython-input-30-047e8c530ebd>\u001b[0m in \u001b[0;36m<cell line: 2>\u001b[0;34m()\u001b[0m\n\u001b[1;32m      1\u001b[0m \u001b[0mx\u001b[0m\u001b[0;34m=\u001b[0m\u001b[0;34m\"5.5\"\u001b[0m\u001b[0;34m\u001b[0m\u001b[0;34m\u001b[0m\u001b[0m\n\u001b[0;32m----> 2\u001b[0;31m \u001b[0mx\u001b[0m\u001b[0;34m=\u001b[0m\u001b[0mint\u001b[0m\u001b[0;34m(\u001b[0m\u001b[0mx\u001b[0m\u001b[0;34m)\u001b[0m\u001b[0;34m\u001b[0m\u001b[0;34m\u001b[0m\u001b[0m\n\u001b[0m\u001b[1;32m      3\u001b[0m \u001b[0mprint\u001b[0m\u001b[0;34m(\u001b[0m\u001b[0mx\u001b[0m\u001b[0;34m+\u001b[0m\u001b[0;36m5\u001b[0m\u001b[0;34m)\u001b[0m\u001b[0;34m\u001b[0m\u001b[0;34m\u001b[0m\u001b[0m\n",
            "\u001b[0;31mValueError\u001b[0m: invalid literal for int() with base 10: '5.5'"
          ]
        }
      ],
      "source": [
        "x=\"5.5\"\n",
        "x=int(x)\n",
        "print(x+5)\n",
        "#you must convert to floate firstly and convert to int"
      ]
    },
    {
      "cell_type": "markdown",
      "metadata": {
        "id": "jNBNvvqZw22-"
      },
      "source": [
        "#if condition\n"
      ]
    },
    {
      "cell_type": "code",
      "execution_count": null,
      "metadata": {
        "colab": {
          "base_uri": "https://localhost:8080/"
        },
        "id": "td5egmM9w7yX",
        "outputId": "3ee2e32d-c09d-4756-85be-1274de73428f"
      },
      "outputs": [
        {
          "name": "stdout",
          "output_type": "stream",
          "text": [
            "Enter a number: 0\n",
            "x is zero\n"
          ]
        }
      ],
      "source": [
        "x=int(input(\"Enter a number: \"))\n",
        "if x > 0:\n",
        "  print(\"x is positive \")\n",
        "elif x == 0:\n",
        "  print(\"x is zero\")\n",
        "else:\n",
        "  print(\"x is negative\")"
      ]
    },
    {
      "cell_type": "code",
      "execution_count": null,
      "metadata": {
        "colab": {
          "base_uri": "https://localhost:8080/"
        },
        "id": "Cz2uTACRzSms",
        "outputId": "6e2048dc-613d-4ff4-8fc5-356f4c5bc41f"
      },
      "outputs": [
        {
          "name": "stdout",
          "output_type": "stream",
          "text": [
            "You have discount 10%\n"
          ]
        }
      ],
      "source": [
        "order=50\n",
        "member=True\n",
        "if not (order>100 and member==True):\n",
        "  print(\"You have discount 10%\")\n",
        "elif(order>100 and member==False):\n",
        "  print(\"You have discount 5%\")\n",
        "else:\n",
        "  print(\"No discount\")"
      ]
    },
    {
      "cell_type": "code",
      "execution_count": null,
      "metadata": {
        "colab": {
          "base_uri": "https://localhost:8080/"
        },
        "id": "ciF4RFcd0mwP",
        "outputId": "d0054e5d-c3a1-47e6-9499-39f7e878b1bd"
      },
      "outputs": [
        {
          "name": "stdout",
          "output_type": "stream",
          "text": [
            "Enter a number: 0\n",
            "Even\n"
          ]
        }
      ],
      "source": [
        "num=int(input(\"Enter a number: \"))\n",
        "if num%2==0:\n",
        "  print(\"Even\")\n",
        "else:\n",
        "  print(\"Odd\")"
      ]
    },
    {
      "cell_type": "markdown",
      "metadata": {
        "id": "hck3hZCh_2j6"
      },
      "source": [
        "#Simple Calculator"
      ]
    },
    {
      "cell_type": "code",
      "execution_count": 4,
      "metadata": {
        "colab": {
          "base_uri": "https://localhost:8080/"
        },
        "id": "zlFGoNSf_6Wm",
        "outputId": "b548128b-9bf6-46d3-90f1-d744049c12a3"
      },
      "outputs": [
        {
          "output_type": "stream",
          "name": "stdout",
          "text": [
            " **************** Simple Calculator ****************\n",
            "Enter First number : 14\n",
            "Enter Second number : 5\n",
            "Enter operator : f\n",
            "Enter First number : 15\n",
            "Enter Second number : 25 \n",
            "Enter operator : /\n",
            "0.6\n"
          ]
        }
      ],
      "source": [
        "print(\" **************** Simple Calculator ****************\")\n",
        "while(True):\n",
        "  number1=int(input(\"Enter First number : \"))\n",
        "  number2=int(input(\"Enter Second number : \"))\n",
        "  operator=input(\"Enter operator : \")\n",
        "  if(operator=='+' or operator=='-' or operator=='*' or operator=='/'or operator=='//' or operator=='%' ):\n",
        "    def add(number1,number2):\n",
        "      print(number1+number2)\n",
        "\n",
        "    def sub(number1,number2):\n",
        "      print(number1-number2)\n",
        "\n",
        "    def mal(number1,number2):\n",
        "      print(number1*number2)\n",
        "\n",
        "    def div(number1,number2):\n",
        "      print(number1/number2)\n",
        "\n",
        "    def divDiv(number1,number2):\n",
        "      print(number1//number2)\n",
        "\n",
        "    def mod(number1,number2):\n",
        "      print(number1 % number2)\n",
        "\n",
        "\n",
        "    if operator==\"+\":\n",
        "      add(number1,number2)\n",
        "      break\n",
        "    elif operator==\"-\":\n",
        "      sub(number1,number2)\n",
        "      break\n",
        "    elif operator==\"/\":\n",
        "      div(number1,number2)\n",
        "      break\n",
        "    elif operator==\"*\":\n",
        "      mal(number1,number2)\n",
        "      break\n",
        "    elif operator==\"//\":\n",
        "      divDiv(number1,number2)\n",
        "      break\n",
        "    elif operator==\"%\":\n",
        "      mod(number1,number2)\n",
        "      break\n",
        "    else :\n",
        "      print(\"Invalid operator\")\n",
        "      break"
      ]
    },
    {
      "cell_type": "code",
      "execution_count": null,
      "metadata": {
        "colab": {
          "base_uri": "https://localhost:8080/"
        },
        "id": "P7YPEwzv6D-n",
        "outputId": "d691f1ee-0026-4bd0-e604-0b49cc19841b"
      },
      "outputs": [
        {
          "name": "stdout",
          "output_type": "stream",
          "text": [
            "0\n",
            "2\n",
            "4\n",
            "6\n",
            "8\n",
            "10\n",
            "12\n",
            "14\n",
            "16\n",
            "18\n",
            "20\n",
            "22\n",
            "24\n",
            "26\n",
            "28\n",
            "30\n",
            "32\n",
            "34\n",
            "36\n",
            "38\n",
            "40\n",
            "42\n",
            "44\n",
            "46\n",
            "48\n",
            "50\n",
            "52\n",
            "54\n",
            "56\n",
            "58\n",
            "60\n",
            "62\n",
            "64\n",
            "66\n",
            "68\n",
            "70\n",
            "72\n",
            "74\n",
            "76\n",
            "78\n",
            "80\n",
            "82\n",
            "84\n",
            "86\n",
            "88\n",
            "90\n",
            "92\n",
            "94\n",
            "96\n",
            "98\n",
            "100\n"
          ]
        }
      ],
      "source": [
        "for i in range(0,101,2):\n",
        "  print(i)"
      ]
    },
    {
      "cell_type": "code",
      "execution_count": null,
      "metadata": {
        "id": "lSYZvFEqA2q6"
      },
      "outputs": [],
      "source": [
        "i = 1\n",
        "while i < 6:\n",
        "  print(i)\n",
        "  if i == 3:\n",
        "    break\n",
        "  i += 1"
      ]
    },
    {
      "cell_type": "code",
      "execution_count": null,
      "metadata": {
        "id": "WwYTAhCIJ_-F"
      },
      "outputs": [],
      "source": [
        "def sum(a,b=5):\n",
        "  print(a+b)"
      ]
    },
    {
      "cell_type": "code",
      "execution_count": null,
      "metadata": {
        "colab": {
          "base_uri": "https://localhost:8080/"
        },
        "id": "gIcJe_RKKPa0",
        "outputId": "e6cbc44d-374b-4434-8f77-d45091d2699a"
      },
      "outputs": [
        {
          "name": "stdout",
          "output_type": "stream",
          "text": [
            "8\n"
          ]
        }
      ],
      "source": [
        "sum(3)"
      ]
    }
  ],
  "metadata": {
    "colab": {
      "provenance": [],
      "authorship_tag": "ABX9TyMB3J6IZzJ6we2xKyLBrX1B",
      "include_colab_link": true
    },
    "kernelspec": {
      "display_name": "Python 3",
      "name": "python3"
    },
    "language_info": {
      "name": "python"
    }
  },
  "nbformat": 4,
  "nbformat_minor": 0
}