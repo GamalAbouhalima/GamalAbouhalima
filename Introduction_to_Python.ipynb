{
  "cells": [
    {
      "cell_type": "markdown",
      "metadata": {
        "id": "view-in-github",
        "colab_type": "text"
      },
      "source": [
        "<a href=\"https://colab.research.google.com/github/GamalAbouhalima/Introduction-to-Python/blob/main/Introduction_to_Python.ipynb\" target=\"_parent\"><img src=\"https://colab.research.google.com/assets/colab-badge.svg\" alt=\"Open In Colab\"/></a>"
      ]
    },
    {
      "cell_type": "markdown",
      "metadata": {
        "id": "g-OOTsJIaIgd"
      },
      "source": [
        "#Introduction to python\n"
      ]
    },
    {
      "cell_type": "code",
      "execution_count": null,
      "metadata": {
        "colab": {
          "base_uri": "https://localhost:8080/"
        },
        "id": "HBOneDeISPo0",
        "outputId": "37ac476f-36ef-4bd6-a3e9-169adf9b8de1"
      },
      "outputs": [
        {
          "name": "stdout",
          "output_type": "stream",
          "text": [
            "Hello Gamal\n"
          ]
        }
      ],
      "source": [
        "print(\"Hello\",\"Gamal\")"
      ]
    },
    {
      "cell_type": "code",
      "execution_count": null,
      "metadata": {
        "colab": {
          "base_uri": "https://localhost:8080/"
        },
        "id": "5Phwe_MpWcGU",
        "outputId": "56f1357b-0f61-4b12-ccf5-2380c5051aa9"
      },
      "outputs": [
        {
          "name": "stdout",
          "output_type": "stream",
          "text": [
            "What is Your Name? Gamal\n",
            "Hello Gamal\n"
          ]
        }
      ],
      "source": [
        "name=input(\"What is Your Name? \")\n",
        "print (\"Hello\",name)"
      ]
    },
    {
      "cell_type": "code",
      "execution_count": null,
      "metadata": {
        "colab": {
          "base_uri": "https://localhost:8080/"
        },
        "id": "0p7bIVN9XSQp",
        "outputId": "067a342d-d1ab-4089-841e-f9d44db1f5f5"
      },
      "outputs": [
        {
          "name": "stdout",
          "output_type": "stream",
          "text": [
            "Enter number One: 10\n",
            "Enter number Two: 12\n",
            "Sum =  22\n"
          ]
        }
      ],
      "source": [
        "num1=int (input(\"Enter number One: \"))\n",
        "num2=int (input(\"Enter number Two: \"))\n",
        "print(\"Sum = \",num1+num2)"
      ]
    },
    {
      "cell_type": "code",
      "execution_count": null,
      "metadata": {
        "colab": {
          "base_uri": "https://localhost:8080/"
        },
        "id": "ie_cjXhoYTep",
        "outputId": "9ba8f195-74da-4438-f9ef-493ffa2ad51f"
      },
      "outputs": [
        {
          "name": "stdout",
          "output_type": "stream",
          "text": [
            "25\n"
          ]
        }
      ],
      "source": [
        "x=\"Gamal\"\n",
        "x=25\n",
        "print(x)"
      ]
    },
    {
      "cell_type": "markdown",
      "metadata": {
        "id": "ZEqvl3MHajEh"
      },
      "source": [
        "#Type Conversion\n"
      ]
    },
    {
      "cell_type": "code",
      "execution_count": null,
      "metadata": {
        "colab": {
          "base_uri": "https://localhost:8080/"
        },
        "id": "2JGzmcSmY59b",
        "outputId": "198f1c5a-0126-4d6e-9b44-22fe629fbffe"
      },
      "outputs": [
        {
          "name": "stdout",
          "output_type": "stream",
          "text": [
            "2.0\n"
          ]
        }
      ],
      "source": [
        "x=2\n",
        "x=float(x)\n",
        "print(x)"
      ]
    },
    {
      "cell_type": "code",
      "execution_count": null,
      "metadata": {
        "colab": {
          "base_uri": "https://localhost:8080/"
        },
        "id": "tmvq-NhCZLns",
        "outputId": "4381c37b-6bf5-4841-c33c-c42aa46c1e94"
      },
      "outputs": [
        {
          "name": "stdout",
          "output_type": "stream",
          "text": [
            "3\n"
          ]
        }
      ],
      "source": [
        "x=3.9\n",
        "x=int(x)\n",
        "print(x)"
      ]
    },
    {
      "cell_type": "code",
      "execution_count": null,
      "metadata": {
        "colab": {
          "base_uri": "https://localhost:8080/"
        },
        "id": "JIBhjcjZZYEC",
        "outputId": "8c00f287-47af-4548-e0be-b051dad06510"
      },
      "outputs": [
        {
          "name": "stdout",
          "output_type": "stream",
          "text": [
            "1\n"
          ]
        }
      ],
      "source": [
        "b=True\n",
        "b=int(b)\n",
        "print(b)"
      ]
    },
    {
      "cell_type": "code",
      "execution_count": null,
      "metadata": {
        "colab": {
          "base_uri": "https://localhost:8080/"
        },
        "id": "MH_r8WZVZf_l",
        "outputId": "27e9e463-589e-4b73-fc3d-b295f5ca5e11"
      },
      "outputs": [
        {
          "name": "stdout",
          "output_type": "stream",
          "text": [
            "1.0\n"
          ]
        }
      ],
      "source": [
        "c=True\n",
        "c=float(c)\n",
        "print(c)"
      ]
    },
    {
      "cell_type": "code",
      "execution_count": null,
      "metadata": {
        "colab": {
          "base_uri": "https://localhost:8080/"
        },
        "id": "61ENyugiZyTY",
        "outputId": "de46bbcb-ea9e-4025-9187-a11ad4e7566e"
      },
      "outputs": [
        {
          "name": "stdout",
          "output_type": "stream",
          "text": [
            "True\n"
          ]
        }
      ],
      "source": [
        "d=9\n",
        "d=bool(d)\n",
        "print(d)"
      ]
    },
    {
      "cell_type": "code",
      "execution_count": null,
      "metadata": {
        "colab": {
          "base_uri": "https://localhost:8080/"
        },
        "id": "MrCrKelbZ6J9",
        "outputId": "307d3c10-a73f-4907-8763-e34495d8d4ae"
      },
      "outputs": [
        {
          "name": "stdout",
          "output_type": "stream",
          "text": [
            "False\n"
          ]
        }
      ],
      "source": [
        "d=0\n",
        "d=bool(d)\n",
        "print(d)"
      ]
    },
    {
      "cell_type": "code",
      "execution_count": null,
      "metadata": {
        "colab": {
          "base_uri": "https://localhost:8080/"
        },
        "id": "dPHeIQFMaAcF",
        "outputId": "6b91e138-88fc-4eca-beb9-145c5ab434f8"
      },
      "outputs": [
        {
          "name": "stdout",
          "output_type": "stream",
          "text": [
            "True\n"
          ]
        }
      ],
      "source": [
        "d=-9\n",
        "d=bool(d)\n",
        "print(d)"
      ]
    },
    {
      "cell_type": "code",
      "execution_count": null,
      "metadata": {
        "colab": {
          "base_uri": "https://localhost:8080/"
        },
        "id": "hv97kTc5aNhM",
        "outputId": "0f080257-4b61-49dc-841b-184c532c577e"
      },
      "outputs": [
        {
          "name": "stdout",
          "output_type": "stream",
          "text": [
            "8\n"
          ]
        }
      ],
      "source": [
        "x=8\n",
        "x=str(x)\n",
        "print(x)"
      ]
    },
    {
      "cell_type": "code",
      "execution_count": null,
      "metadata": {
        "colab": {
          "base_uri": "https://localhost:8080/",
          "height": 35
        },
        "id": "kBTCVq0va2BN",
        "outputId": "cd2c2be7-3363-4635-a94b-c2be28c5c9de"
      },
      "outputs": [
        {
          "data": {
            "application/vnd.google.colaboratory.intrinsic+json": {
              "type": "string"
            },
            "text/plain": [
              "'85'"
            ]
          },
          "execution_count": 20,
          "metadata": {},
          "output_type": "execute_result"
        }
      ],
      "source": [
        "y=x+\"5\"\n",
        "y"
      ]
    },
    {
      "cell_type": "markdown",
      "metadata": {
        "id": "nTo6GNvpcqzn"
      },
      "source": [
        "#Convert from STring to Boolean\n"
      ]
    },
    {
      "cell_type": "code",
      "execution_count": null,
      "metadata": {
        "colab": {
          "base_uri": "https://localhost:8080/"
        },
        "id": "Hg6kJ-HxbLYS",
        "outputId": "719b45f4-026c-4dd2-9878-0c932f331371"
      },
      "outputs": [
        {
          "name": "stdout",
          "output_type": "stream",
          "text": [
            "True\n"
          ]
        }
      ],
      "source": [
        "x=\"Hello\"\n",
        "x=bool(x)\n",
        "print(x)"
      ]
    },
    {
      "cell_type": "code",
      "execution_count": null,
      "metadata": {
        "colab": {
          "base_uri": "https://localhost:8080/"
        },
        "id": "bY3gVJPJbmwo",
        "outputId": "72b35d0c-4a8e-4ca4-8e6e-e52457eb0f7c"
      },
      "outputs": [
        {
          "name": "stdout",
          "output_type": "stream",
          "text": [
            "True\n"
          ]
        }
      ],
      "source": [
        "x=\"false\"\n",
        "x=bool(x)\n",
        "print(x)"
      ]
    },
    {
      "cell_type": "markdown",
      "metadata": {
        "id": "XO5bCD-PcZi6"
      },
      "source": [
        "Convert from String to int or float\n"
      ]
    },
    {
      "cell_type": "code",
      "execution_count": null,
      "metadata": {
        "colab": {
          "base_uri": "https://localhost:8080/"
        },
        "id": "xg7Yf8yxcx03",
        "outputId": "9b1b9b42-0c63-407b-f148-054c8152af1e"
      },
      "outputs": [
        {
          "name": "stdout",
          "output_type": "stream",
          "text": [
            "10\n"
          ]
        }
      ],
      "source": [
        "x=\"5\"\n",
        "x=int(x)\n",
        "print(x+5)"
      ]
    },
    {
      "cell_type": "code",
      "execution_count": null,
      "metadata": {
        "colab": {
          "base_uri": "https://localhost:8080/"
        },
        "id": "x3GtqpFydZ_E",
        "outputId": "30c54573-bc35-48bb-b45a-91228e30a150"
      },
      "outputs": [
        {
          "name": "stdout",
          "output_type": "stream",
          "text": [
            "10.0\n"
          ]
        }
      ],
      "source": [
        "x=\"5\"\n",
        "x=float(x)\n",
        "print(x+5)"
      ]
    },
    {
      "cell_type": "code",
      "execution_count": null,
      "metadata": {
        "colab": {
          "base_uri": "https://localhost:8080/",
          "height": 176
        },
        "id": "B7EAzJygddiW",
        "outputId": "88f29421-d21f-49a9-a8c4-503053ff0127"
      },
      "outputs": [
        {
          "ename": "ValueError",
          "evalue": "invalid literal for int() with base 10: '5.5'",
          "output_type": "error",
          "traceback": [
            "\u001b[0;31m---------------------------------------------------------------------------\u001b[0m",
            "\u001b[0;31mValueError\u001b[0m                                Traceback (most recent call last)",
            "\u001b[0;32m<ipython-input-30-047e8c530ebd>\u001b[0m in \u001b[0;36m<cell line: 2>\u001b[0;34m()\u001b[0m\n\u001b[1;32m      1\u001b[0m \u001b[0mx\u001b[0m\u001b[0;34m=\u001b[0m\u001b[0;34m\"5.5\"\u001b[0m\u001b[0;34m\u001b[0m\u001b[0;34m\u001b[0m\u001b[0m\n\u001b[0;32m----> 2\u001b[0;31m \u001b[0mx\u001b[0m\u001b[0;34m=\u001b[0m\u001b[0mint\u001b[0m\u001b[0;34m(\u001b[0m\u001b[0mx\u001b[0m\u001b[0;34m)\u001b[0m\u001b[0;34m\u001b[0m\u001b[0;34m\u001b[0m\u001b[0m\n\u001b[0m\u001b[1;32m      3\u001b[0m \u001b[0mprint\u001b[0m\u001b[0;34m(\u001b[0m\u001b[0mx\u001b[0m\u001b[0;34m+\u001b[0m\u001b[0;36m5\u001b[0m\u001b[0;34m)\u001b[0m\u001b[0;34m\u001b[0m\u001b[0;34m\u001b[0m\u001b[0m\n",
            "\u001b[0;31mValueError\u001b[0m: invalid literal for int() with base 10: '5.5'"
          ]
        }
      ],
      "source": [
        "x=\"5.5\"\n",
        "x=int(x)\n",
        "print(x+5)\n",
        "#you must convert to floate firstly and convert to int"
      ]
    },
    {
      "cell_type": "markdown",
      "metadata": {
        "id": "jNBNvvqZw22-"
      },
      "source": [
        "#if condition\n"
      ]
    },
    {
      "cell_type": "code",
      "execution_count": null,
      "metadata": {
        "colab": {
          "base_uri": "https://localhost:8080/"
        },
        "id": "td5egmM9w7yX",
        "outputId": "3ee2e32d-c09d-4756-85be-1274de73428f"
      },
      "outputs": [
        {
          "name": "stdout",
          "output_type": "stream",
          "text": [
            "Enter a number: 0\n",
            "x is zero\n"
          ]
        }
      ],
      "source": [
        "x=int(input(\"Enter a number: \"))\n",
        "if x > 0:\n",
        "  print(\"x is positive \")\n",
        "elif x == 0:\n",
        "  print(\"x is zero\")\n",
        "else:\n",
        "  print(\"x is negative\")"
      ]
    },
    {
      "cell_type": "code",
      "execution_count": null,
      "metadata": {
        "colab": {
          "base_uri": "https://localhost:8080/"
        },
        "id": "Cz2uTACRzSms",
        "outputId": "6e2048dc-613d-4ff4-8fc5-356f4c5bc41f"
      },
      "outputs": [
        {
          "name": "stdout",
          "output_type": "stream",
          "text": [
            "You have discount 10%\n"
          ]
        }
      ],
      "source": [
        "order=50\n",
        "member=True\n",
        "if not (order>100 and member==True):\n",
        "  print(\"You have discount 10%\")\n",
        "elif(order>100 and member==False):\n",
        "  print(\"You have discount 5%\")\n",
        "else:\n",
        "  print(\"No discount\")"
      ]
    },
    {
      "cell_type": "code",
      "execution_count": null,
      "metadata": {
        "colab": {
          "base_uri": "https://localhost:8080/"
        },
        "id": "ciF4RFcd0mwP",
        "outputId": "d0054e5d-c3a1-47e6-9499-39f7e878b1bd"
      },
      "outputs": [
        {
          "name": "stdout",
          "output_type": "stream",
          "text": [
            "Enter a number: 0\n",
            "Even\n"
          ]
        }
      ],
      "source": [
        "num=int(input(\"Enter a number: \"))\n",
        "if num%2==0:\n",
        "  print(\"Even\")\n",
        "else:\n",
        "  print(\"Odd\")"
      ]
    },
    {
      "cell_type": "markdown",
      "metadata": {
        "id": "hck3hZCh_2j6"
      },
      "source": [
        "#Simple Calculator"
      ]
    },
    {
      "cell_type": "code",
      "source": [
        "print(\" **************** Simple Calculator ****************\")\n",
        "ans=\"yes\"\n",
        "while(ans==\"yes\"):\n",
        "  number1=int(input(\"Enter First number : \"))\n",
        "  number2=int(input(\"Enter Second number : \"))\n",
        "  operator=input(\"Enter operator : \")\n",
        "  if(operator=='+' or operator=='-' or operator=='*' or operator=='/'or operator=='//' or operator=='%' ):\n",
        "    def add(number1,number2):\n",
        "      print(number1+number2)\n",
        "\n",
        "    def sub(number1,number2):\n",
        "      print(number1-number2)\n",
        "\n",
        "    def mal(number1,number2):\n",
        "      print(number1*number2)\n",
        "\n",
        "    def div(number1,number2):\n",
        "      print(number1/number2)\n",
        "\n",
        "    def divDiv(number1,number2):\n",
        "      print(number1//number2)\n",
        "\n",
        "    def mod(number1,number2):\n",
        "      print(number1 % number2)\n",
        "\n",
        "\n",
        "    if operator==\"+\":\n",
        "      add(number1,number2)\n",
        "\n",
        "    elif operator==\"-\":\n",
        "      sub(number1,number2)\n",
        "\n",
        "    elif operator==\"/\":\n",
        "      div(number1,number2)\n",
        "\n",
        "    elif operator==\"*\":\n",
        "      mal(number1,number2)\n",
        "\n",
        "    elif operator==\"//\":\n",
        "      divDiv(number1,number2)\n",
        "\n",
        "    elif operator==\"%\":\n",
        "      mod(number1,number2)\n",
        "\n",
        "    else :\n",
        "      print(\"Invalid operator\")\n",
        "    ans=input(\"Do You Want to continue ?\")\n",
        "    ans=ans.lower()\n",
        "    if(ans=='no'):\n",
        "      break\n",
        "print(\"Thanks for using my calculator\")\n",
        "\n"
      ],
      "metadata": {
        "colab": {
          "base_uri": "https://localhost:8080/"
        },
        "id": "-oDT7E_bU0MW",
        "outputId": "e8b03e1a-7c32-473d-b44d-e6846c8fccd1"
      },
      "execution_count": 31,
      "outputs": [
        {
          "output_type": "stream",
          "name": "stdout",
          "text": [
            " **************** Simple Calculator ****************\n",
            "Enter First number : 14\n",
            "Enter Second number : 5\n",
            "Enter operator : +\n",
            "19\n",
            "Do You Want to continue ?Yes\n",
            "Enter First number : 55\n",
            "Enter Second number : 5\n",
            "Enter operator : +\n",
            "60\n",
            "Do You Want to continue ?No\n",
            "Thanks for using my calculator\n"
          ]
        }
      ]
    },
    {
      "cell_type": "markdown",
      "source": [
        "#Loops & Functions\n"
      ],
      "metadata": {
        "id": "20JOvFCyfSFg"
      }
    },
    {
      "cell_type": "code",
      "execution_count": null,
      "metadata": {
        "colab": {
          "base_uri": "https://localhost:8080/"
        },
        "id": "P7YPEwzv6D-n",
        "outputId": "d691f1ee-0026-4bd0-e604-0b49cc19841b",
        "collapsed": true
      },
      "outputs": [
        {
          "name": "stdout",
          "output_type": "stream",
          "text": [
            "0\n",
            "2\n",
            "4\n",
            "6\n",
            "8\n",
            "10\n",
            "12\n",
            "14\n",
            "16\n",
            "18\n",
            "20\n",
            "22\n",
            "24\n",
            "26\n",
            "28\n",
            "30\n",
            "32\n",
            "34\n",
            "36\n",
            "38\n",
            "40\n",
            "42\n",
            "44\n",
            "46\n",
            "48\n",
            "50\n",
            "52\n",
            "54\n",
            "56\n",
            "58\n",
            "60\n",
            "62\n",
            "64\n",
            "66\n",
            "68\n",
            "70\n",
            "72\n",
            "74\n",
            "76\n",
            "78\n",
            "80\n",
            "82\n",
            "84\n",
            "86\n",
            "88\n",
            "90\n",
            "92\n",
            "94\n",
            "96\n",
            "98\n",
            "100\n"
          ]
        }
      ],
      "source": [
        "for i in range(0,101,2):\n",
        "  print(i)"
      ]
    },
    {
      "cell_type": "code",
      "execution_count": null,
      "metadata": {
        "id": "lSYZvFEqA2q6"
      },
      "outputs": [],
      "source": [
        "i = 1\n",
        "while i < 6:\n",
        "  print(i)\n",
        "  if i == 3:\n",
        "    break\n",
        "  i += 1"
      ]
    },
    {
      "cell_type": "code",
      "execution_count": null,
      "metadata": {
        "id": "WwYTAhCIJ_-F"
      },
      "outputs": [],
      "source": [
        "def sum(a,b=5):\n",
        "  print(a+b)"
      ]
    },
    {
      "cell_type": "code",
      "execution_count": null,
      "metadata": {
        "colab": {
          "base_uri": "https://localhost:8080/"
        },
        "id": "gIcJe_RKKPa0",
        "outputId": "2b5fde2a-d39b-424f-c502-c8060db5af17"
      },
      "outputs": [
        {
          "output_type": "stream",
          "name": "stdout",
          "text": [
            "8\n"
          ]
        }
      ],
      "source": [
        "sum(3)"
      ]
    },
    {
      "cell_type": "code",
      "source": [
        "x=9\n",
        "y=False\n",
        "if not (x>0 or y == True):\n",
        "  print(\"Yes\")\n",
        "else:\n",
        "  print(\"No\")\n"
      ],
      "metadata": {
        "colab": {
          "base_uri": "https://localhost:8080/"
        },
        "id": "WeqZwI3PdtSO",
        "outputId": "1b380091-341f-42f7-ef6c-9cd111d666c6"
      },
      "execution_count": null,
      "outputs": [
        {
          "output_type": "stream",
          "name": "stdout",
          "text": [
            "No\n"
          ]
        }
      ]
    },
    {
      "cell_type": "code",
      "source": [
        "#index\n",
        "s=\"Welcome into Python\"\n",
        "len(s)"
      ],
      "metadata": {
        "colab": {
          "base_uri": "https://localhost:8080/"
        },
        "id": "J3DjQnlSfc4x",
        "outputId": "1f8d44fd-f646-41c0-a115-5c028b06b563"
      },
      "execution_count": null,
      "outputs": [
        {
          "output_type": "execute_result",
          "data": {
            "text/plain": [
              "19"
            ]
          },
          "metadata": {},
          "execution_count": 8
        }
      ]
    },
    {
      "cell_type": "code",
      "source": [
        "l_names=['Salma','Gamal','Ali','Kenzy','Nesma','Menna','Mohamed']\n",
        "for name in l_names:\n",
        "  print(\"Hello\",name)"
      ],
      "metadata": {
        "colab": {
          "base_uri": "https://localhost:8080/"
        },
        "id": "WOqijNeIgYcA",
        "outputId": "d41b8f8a-0240-46c8-98f5-8d16222527b5"
      },
      "execution_count": null,
      "outputs": [
        {
          "output_type": "stream",
          "name": "stdout",
          "text": [
            "Hello Salma\n",
            "Hello Gamal\n",
            "Hello Ali\n",
            "Hello Kenzy\n",
            "Hello Nesma\n",
            "Hello Menna\n",
            "Hello Mohamed\n"
          ]
        }
      ]
    },
    {
      "cell_type": "code",
      "source": [
        "l_numbers=[]\n",
        "l_numbers=list(range(1,30))\n",
        "l_numbers"
      ],
      "metadata": {
        "colab": {
          "base_uri": "https://localhost:8080/"
        },
        "collapsed": true,
        "id": "JXbdhRTYheq_",
        "outputId": "953a3b17-41ef-470f-a944-156677d30c90"
      },
      "execution_count": null,
      "outputs": [
        {
          "output_type": "execute_result",
          "data": {
            "text/plain": [
              "[1,\n",
              " 2,\n",
              " 3,\n",
              " 4,\n",
              " 5,\n",
              " 6,\n",
              " 7,\n",
              " 8,\n",
              " 9,\n",
              " 10,\n",
              " 11,\n",
              " 12,\n",
              " 13,\n",
              " 14,\n",
              " 15,\n",
              " 16,\n",
              " 17,\n",
              " 18,\n",
              " 19,\n",
              " 20,\n",
              " 21,\n",
              " 22,\n",
              " 23,\n",
              " 24,\n",
              " 25,\n",
              " 26,\n",
              " 27,\n",
              " 28,\n",
              " 29]"
            ]
          },
          "metadata": {},
          "execution_count": 16
        }
      ]
    },
    {
      "cell_type": "code",
      "source": [
        "l_fruits=['Apple','Mango','Watermelon','Orange','Banana']\n",
        "for i in range(0,len(l_fruits)):\n",
        "  print(l_fruits[i])"
      ],
      "metadata": {
        "colab": {
          "base_uri": "https://localhost:8080/"
        },
        "id": "_qzxb7yYiOGO",
        "outputId": "23ce9c32-6fbe-4cdb-da5c-d12939f61110"
      },
      "execution_count": null,
      "outputs": [
        {
          "output_type": "stream",
          "name": "stdout",
          "text": [
            "Apple\n",
            "Mango\n",
            "Watermelon\n",
            "Orange\n",
            "Banana\n"
          ]
        }
      ]
    },
    {
      "cell_type": "code",
      "source": [
        "i"
      ],
      "metadata": {
        "colab": {
          "base_uri": "https://localhost:8080/"
        },
        "id": "Hs-CgRdAqYiE",
        "outputId": "00424c50-49ba-49fe-aac8-04e88b00c4b6"
      },
      "execution_count": null,
      "outputs": [
        {
          "output_type": "execute_result",
          "data": {
            "text/plain": [
              "4"
            ]
          },
          "metadata": {},
          "execution_count": 23
        }
      ]
    },
    {
      "cell_type": "code",
      "source": [
        "count=0\n",
        "for i in range(0,101,2): # (start , end, step)\n",
        "  print(i)\n",
        "  count+=1\n",
        "print(\"================================================\")\n",
        "count"
      ],
      "metadata": {
        "colab": {
          "base_uri": "https://localhost:8080/"
        },
        "collapsed": true,
        "id": "X0WJpBirvYvP",
        "outputId": "02bd524f-b88c-48ab-9431-6d392a1eb5d7"
      },
      "execution_count": null,
      "outputs": [
        {
          "output_type": "stream",
          "name": "stdout",
          "text": [
            "0\n",
            "2\n",
            "4\n",
            "6\n",
            "8\n",
            "10\n",
            "12\n",
            "14\n",
            "16\n",
            "18\n",
            "20\n",
            "22\n",
            "24\n",
            "26\n",
            "28\n",
            "30\n",
            "32\n",
            "34\n",
            "36\n",
            "38\n",
            "40\n",
            "42\n",
            "44\n",
            "46\n",
            "48\n",
            "50\n",
            "52\n",
            "54\n",
            "56\n",
            "58\n",
            "60\n",
            "62\n",
            "64\n",
            "66\n",
            "68\n",
            "70\n",
            "72\n",
            "74\n",
            "76\n",
            "78\n",
            "80\n",
            "82\n",
            "84\n",
            "86\n",
            "88\n",
            "90\n",
            "92\n",
            "94\n",
            "96\n",
            "98\n",
            "100\n",
            "================================================\n"
          ]
        },
        {
          "output_type": "execute_result",
          "data": {
            "text/plain": [
              "51"
            ]
          },
          "metadata": {},
          "execution_count": 31
        }
      ]
    },
    {
      "cell_type": "code",
      "source": [
        "x=7\n",
        "while(x>0):\n",
        "  print(x)\n",
        "  x-=1"
      ],
      "metadata": {
        "colab": {
          "base_uri": "https://localhost:8080/"
        },
        "id": "Vbts64WIwFUk",
        "outputId": "063bab58-c36e-44f1-da79-3fe3e4a115f6"
      },
      "execution_count": null,
      "outputs": [
        {
          "output_type": "stream",
          "name": "stdout",
          "text": [
            "7\n",
            "6\n",
            "5\n",
            "4\n",
            "3\n",
            "2\n",
            "1\n"
          ]
        }
      ]
    },
    {
      "cell_type": "code",
      "source": [
        "while(True):\n",
        "  word=input(\"Enter Word : \")\n",
        "  if(word=='q' or word=='quit'):\n",
        "    break\n",
        "  else:\n",
        "    print(\"Try Again \")\n"
      ],
      "metadata": {
        "colab": {
          "base_uri": "https://localhost:8080/"
        },
        "id": "-jIHA1jVxUEh",
        "outputId": "4f1b1bc0-85dc-4d41-becd-cce46b3a2ce5"
      },
      "execution_count": null,
      "outputs": [
        {
          "name": "stdout",
          "output_type": "stream",
          "text": [
            "Enter Word : 4\n",
            "Try Again \n",
            "Enter Word : 5\n",
            "Try Again \n",
            "Enter Word : a\n",
            "Try Again \n",
            "Enter Word : quit\n"
          ]
        }
      ]
    },
    {
      "cell_type": "code",
      "source": [
        "x=7\n",
        "for i in range(0,9):\n",
        "  if(i==7):\n",
        "    continue\n",
        "  else:\n",
        "    print(i)"
      ],
      "metadata": {
        "colab": {
          "base_uri": "https://localhost:8080/"
        },
        "id": "c95Yq34eyOEq",
        "outputId": "b0575a80-20f7-4e34-d3cf-2cf0d21cb8a7"
      },
      "execution_count": null,
      "outputs": [
        {
          "output_type": "stream",
          "name": "stdout",
          "text": [
            "0\n",
            "1\n",
            "2\n",
            "3\n",
            "4\n",
            "5\n",
            "6\n",
            "8\n"
          ]
        }
      ]
    },
    {
      "cell_type": "code",
      "source": [
        "l=[8,3,6,12,44]\n",
        "len(l)"
      ],
      "metadata": {
        "colab": {
          "base_uri": "https://localhost:8080/"
        },
        "id": "IXV57A6uzwjF",
        "outputId": "fb2cc71e-3993-42b5-ec23-3358911457f6"
      },
      "execution_count": null,
      "outputs": [
        {
          "output_type": "execute_result",
          "data": {
            "text/plain": [
              "5"
            ]
          },
          "metadata": {},
          "execution_count": 38
        }
      ]
    },
    {
      "cell_type": "code",
      "source": [
        "count=0\n",
        "for i in l:\n",
        "  count+=1;\n",
        "print(count)"
      ],
      "metadata": {
        "colab": {
          "base_uri": "https://localhost:8080/"
        },
        "id": "gPuDuc4Ez7pA",
        "outputId": "d1105f89-80fa-4824-e0a4-f6e074d06976"
      },
      "execution_count": null,
      "outputs": [
        {
          "output_type": "stream",
          "name": "stdout",
          "text": [
            "5\n"
          ]
        }
      ]
    },
    {
      "cell_type": "code",
      "source": [
        "def size(l):\n",
        "  count=0\n",
        "  for i in l:\n",
        "    count+=1\n",
        "  return count\n",
        "\n"
      ],
      "metadata": {
        "id": "HjZv6WHl0SfV"
      },
      "execution_count": null,
      "outputs": []
    },
    {
      "cell_type": "code",
      "source": [
        "size(name)"
      ],
      "metadata": {
        "colab": {
          "base_uri": "https://localhost:8080/"
        },
        "id": "fg5kdXUK0lpu",
        "outputId": "5b16e334-2a63-4fa6-dafe-b999d6fa6a69"
      },
      "execution_count": null,
      "outputs": [
        {
          "output_type": "execute_result",
          "data": {
            "text/plain": [
              "7"
            ]
          },
          "metadata": {},
          "execution_count": 46
        }
      ]
    },
    {
      "cell_type": "code",
      "source": [
        "def Hello(country=\"France\"):\n",
        "  print(\"Hello\",country)"
      ],
      "metadata": {
        "id": "0z64VL0f2r4e"
      },
      "execution_count": null,
      "outputs": []
    },
    {
      "cell_type": "code",
      "source": [
        "Hello()"
      ],
      "metadata": {
        "colab": {
          "base_uri": "https://localhost:8080/"
        },
        "id": "OqBATNH-2zb7",
        "outputId": "65d673b2-f7e6-455e-cff5-b323e7c8169c"
      },
      "execution_count": null,
      "outputs": [
        {
          "output_type": "stream",
          "name": "stdout",
          "text": [
            "Hello France\n"
          ]
        }
      ]
    },
    {
      "cell_type": "code",
      "source": [
        "def add(a,b=8):\n",
        "  x=a+b;\n",
        "  return x;"
      ],
      "metadata": {
        "id": "UVGduYuwOiF3"
      },
      "execution_count": null,
      "outputs": []
    },
    {
      "cell_type": "code",
      "source": [
        "add(5)"
      ],
      "metadata": {
        "colab": {
          "base_uri": "https://localhost:8080/"
        },
        "id": "6FTuqPFGPAza",
        "outputId": "0ac52574-8653-4555-8a7e-59be3e354f97"
      },
      "execution_count": null,
      "outputs": [
        {
          "output_type": "execute_result",
          "data": {
            "text/plain": [
              "13"
            ]
          },
          "metadata": {},
          "execution_count": 58
        }
      ]
    },
    {
      "cell_type": "code",
      "source": [
        "add(5,6)"
      ],
      "metadata": {
        "colab": {
          "base_uri": "https://localhost:8080/"
        },
        "id": "DhidhAmiPVz9",
        "outputId": "b2ae963f-e844-4eef-8186-a92e9d3d29f8"
      },
      "execution_count": null,
      "outputs": [
        {
          "output_type": "execute_result",
          "data": {
            "text/plain": [
              "11"
            ]
          },
          "metadata": {},
          "execution_count": 59
        }
      ]
    },
    {
      "cell_type": "code",
      "source": [
        "x=\"Hello Python\"\n",
        "for i in x:\n",
        "  print()"
      ],
      "metadata": {
        "colab": {
          "base_uri": "https://localhost:8080/"
        },
        "id": "75yJ4MhIPZ_S",
        "outputId": "74007506-a0cc-4493-d3e3-59ccda73c235"
      },
      "execution_count": null,
      "outputs": [
        {
          "output_type": "stream",
          "name": "stdout",
          "text": [
            "H\n",
            "e\n",
            "l\n",
            "l\n",
            "o\n",
            " \n",
            "P\n",
            "y\n",
            "t\n",
            "h\n",
            "o\n",
            "n\n"
          ]
        }
      ]
    },
    {
      "cell_type": "code",
      "source": [
        "l=[1,2,3,4,5]\n",
        "m=list(map(lambda x:x**2,l))\n",
        "m"
      ],
      "metadata": {
        "colab": {
          "base_uri": "https://localhost:8080/"
        },
        "id": "wptg_vY_QWAB",
        "outputId": "96e2a165-50f1-4ce1-ab3b-69d047481080"
      },
      "execution_count": 36,
      "outputs": [
        {
          "output_type": "execute_result",
          "data": {
            "text/plain": [
              "[1, 4, 9, 16, 25]"
            ]
          },
          "metadata": {},
          "execution_count": 36
        }
      ]
    },
    {
      "cell_type": "code",
      "source": [
        "s=\"welcome to python world\"\n",
        "s[11:17]"
      ],
      "metadata": {
        "colab": {
          "base_uri": "https://localhost:8080/",
          "height": 35
        },
        "id": "fS9byRjKnCIe",
        "outputId": "09d239b1-f06c-417d-93b4-5fe8fffbc746"
      },
      "execution_count": 43,
      "outputs": [
        {
          "output_type": "execute_result",
          "data": {
            "text/plain": [
              "'python'"
            ],
            "application/vnd.google.colaboratory.intrinsic+json": {
              "type": "string"
            }
          },
          "metadata": {},
          "execution_count": 43
        }
      ]
    },
    {
      "cell_type": "code",
      "source": [
        "l=[1,2,3,4,5]\n",
        "l[1:3]"
      ],
      "metadata": {
        "colab": {
          "base_uri": "https://localhost:8080/"
        },
        "id": "tkggx0ohoVgJ",
        "outputId": "c209f117-13dc-472c-f874-4994e31f3aca"
      },
      "execution_count": 44,
      "outputs": [
        {
          "output_type": "execute_result",
          "data": {
            "text/plain": [
              "[2, 3]"
            ]
          },
          "metadata": {},
          "execution_count": 44
        }
      ]
    },
    {
      "cell_type": "code",
      "source": [
        "l=[]\n",
        "l.append(1)\n",
        "l.append(2)\n",
        "l.append(3)\n",
        "l"
      ],
      "metadata": {
        "colab": {
          "base_uri": "https://localhost:8080/"
        },
        "id": "vxelP6jboml1",
        "outputId": "30c9a6f4-3a96-44c8-b8e3-8c458dfbd00f"
      },
      "execution_count": 53,
      "outputs": [
        {
          "output_type": "execute_result",
          "data": {
            "text/plain": [
              "[1, 2, 3]"
            ]
          },
          "metadata": {},
          "execution_count": 53
        }
      ]
    },
    {
      "cell_type": "code",
      "source": [
        "l.insert(2,7.5)\n",
        "l"
      ],
      "metadata": {
        "colab": {
          "base_uri": "https://localhost:8080/"
        },
        "id": "G5mW73yZpAdQ",
        "outputId": "34e0cbf2-4c71-47b7-bc0b-430812801919"
      },
      "execution_count": 46,
      "outputs": [
        {
          "output_type": "execute_result",
          "data": {
            "text/plain": [
              "[1, 2, 7.5, 3]"
            ]
          },
          "metadata": {},
          "execution_count": 46
        }
      ]
    },
    {
      "cell_type": "code",
      "source": [
        "l.append(10)\n",
        "l"
      ],
      "metadata": {
        "colab": {
          "base_uri": "https://localhost:8080/"
        },
        "id": "b4DhzPpppcbP",
        "outputId": "5df6ddc7-d9e0-4401-e0fd-c620869ac43f"
      },
      "execution_count": 55,
      "outputs": [
        {
          "output_type": "execute_result",
          "data": {
            "text/plain": [
              "[1, 2, 3, 10]"
            ]
          },
          "metadata": {},
          "execution_count": 55
        }
      ]
    },
    {
      "cell_type": "code",
      "source": [
        "l.remove(10)  # Remove by value\n",
        "l"
      ],
      "metadata": {
        "colab": {
          "base_uri": "https://localhost:8080/"
        },
        "id": "kDnQMx3cpfzo",
        "outputId": "3708889e-7d69-4901-9086-d692f7ba9b08"
      },
      "execution_count": 56,
      "outputs": [
        {
          "output_type": "execute_result",
          "data": {
            "text/plain": [
              "[1, 2, 3]"
            ]
          },
          "metadata": {},
          "execution_count": 56
        }
      ]
    },
    {
      "cell_type": "code",
      "source": [
        "del l[2]  # Remove by index\n",
        "l\n",
        "#"
      ],
      "metadata": {
        "colab": {
          "base_uri": "https://localhost:8080/"
        },
        "id": "IFvWR0xvqhzs",
        "outputId": "2c1130db-6714-4a9a-8571-83c238d99e40"
      },
      "execution_count": 57,
      "outputs": [
        {
          "output_type": "execute_result",
          "data": {
            "text/plain": [
              "[1, 2]"
            ]
          },
          "metadata": {},
          "execution_count": 57
        }
      ]
    },
    {
      "cell_type": "code",
      "source": [
        "l[len(l)-1]"
      ],
      "metadata": {
        "colab": {
          "base_uri": "https://localhost:8080/"
        },
        "id": "ykR8MD3_qvRp",
        "outputId": "83da7581-abd1-41dd-8764-a3b4eed7f2ec"
      },
      "execution_count": 58,
      "outputs": [
        {
          "output_type": "execute_result",
          "data": {
            "text/plain": [
              "2"
            ]
          },
          "metadata": {},
          "execution_count": 58
        }
      ]
    },
    {
      "cell_type": "code",
      "source": [
        "l[-1]"
      ],
      "metadata": {
        "colab": {
          "base_uri": "https://localhost:8080/"
        },
        "id": "WHNYZQQIq3K7",
        "outputId": "6f3c95f7-b04d-415b-c7af-47dca95868c9"
      },
      "execution_count": 59,
      "outputs": [
        {
          "output_type": "execute_result",
          "data": {
            "text/plain": [
              "2"
            ]
          },
          "metadata": {},
          "execution_count": 59
        }
      ]
    },
    {
      "cell_type": "code",
      "source": [
        "grades=[50,60,70,80,90]\n",
        "max=grades[0]\n",
        "for i in grades:\n",
        "  if(i>max):\n",
        "    max=i\n",
        "print(max)"
      ],
      "metadata": {
        "colab": {
          "base_uri": "https://localhost:8080/"
        },
        "id": "zS1RlRXdrC5D",
        "outputId": "832eff04-1162-4a3f-944e-db7b0e956b29"
      },
      "execution_count": 77,
      "outputs": [
        {
          "output_type": "stream",
          "name": "stdout",
          "text": [
            "90\n"
          ]
        }
      ]
    },
    {
      "cell_type": "markdown",
      "source": [
        "#Dictionary"
      ],
      "metadata": {
        "id": "5bmzUjLg0123"
      }
    },
    {
      "cell_type": "code",
      "source": [
        "d={'Year':2024,\"Month\":7,\"Day\":24}"
      ],
      "metadata": {
        "id": "F-W6ZU7D01Ek"
      },
      "execution_count": 87,
      "outputs": []
    },
    {
      "cell_type": "code",
      "source": [
        "d.keys()"
      ],
      "metadata": {
        "colab": {
          "base_uri": "https://localhost:8080/"
        },
        "id": "8CP3v2h459MF",
        "outputId": "61f34345-eb74-44ee-f988-e357a899c650"
      },
      "execution_count": 88,
      "outputs": [
        {
          "output_type": "execute_result",
          "data": {
            "text/plain": [
              "dict_keys(['Year', 'Month', 'Day'])"
            ]
          },
          "metadata": {},
          "execution_count": 88
        }
      ]
    },
    {
      "cell_type": "code",
      "source": [
        "d.items()"
      ],
      "metadata": {
        "colab": {
          "base_uri": "https://localhost:8080/"
        },
        "id": "8YeYo4RD6KIS",
        "outputId": "379993a5-ddf1-4e8f-fa64-7d9464f91964"
      },
      "execution_count": 89,
      "outputs": [
        {
          "output_type": "execute_result",
          "data": {
            "text/plain": [
              "dict_items([('Year', 2024), ('Month', 7), ('Day', 24)])"
            ]
          },
          "metadata": {},
          "execution_count": 89
        }
      ]
    },
    {
      "cell_type": "code",
      "source": [
        "for i in d:\n",
        "  print(i)"
      ],
      "metadata": {
        "colab": {
          "base_uri": "https://localhost:8080/"
        },
        "id": "MZ-e6fQ06TQH",
        "outputId": "fff2f3b5-5afb-47de-e299-5b520137acf5"
      },
      "execution_count": 90,
      "outputs": [
        {
          "output_type": "stream",
          "name": "stdout",
          "text": [
            "Year\n",
            "Month\n",
            "Day\n"
          ]
        }
      ]
    },
    {
      "cell_type": "markdown",
      "source": [
        "#Set"
      ],
      "metadata": {
        "id": "trG-M9m36cbR"
      }
    },
    {
      "cell_type": "code",
      "source": [
        "s={8,3,6,12,3,44}\n",
        "s"
      ],
      "metadata": {
        "colab": {
          "base_uri": "https://localhost:8080/"
        },
        "id": "_RiJ_qiu6dtN",
        "outputId": "21767583-20c7-47c3-90fc-1e0538f2c637"
      },
      "execution_count": 93,
      "outputs": [
        {
          "output_type": "execute_result",
          "data": {
            "text/plain": [
              "{3, 6, 8, 12, 44}"
            ]
          },
          "metadata": {},
          "execution_count": 93
        }
      ]
    },
    {
      "cell_type": "code",
      "source": [
        "s.add(9)\n",
        "s"
      ],
      "metadata": {
        "colab": {
          "base_uri": "https://localhost:8080/"
        },
        "id": "7j2tj6uK8TF7",
        "outputId": "426201fc-198c-44ed-913e-73d808a4e033"
      },
      "execution_count": 94,
      "outputs": [
        {
          "output_type": "execute_result",
          "data": {
            "text/plain": [
              "{3, 6, 8, 9, 12, 44}"
            ]
          },
          "metadata": {},
          "execution_count": 94
        }
      ]
    },
    {
      "cell_type": "code",
      "source": [
        "s.remove(3)\n",
        "s"
      ],
      "metadata": {
        "colab": {
          "base_uri": "https://localhost:8080/"
        },
        "id": "quSCMf4b8moj",
        "outputId": "97ac626d-5086-4e34-d8c7-4eadc83d2344"
      },
      "execution_count": 95,
      "outputs": [
        {
          "output_type": "execute_result",
          "data": {
            "text/plain": [
              "{6, 8, 9, 12, 44}"
            ]
          },
          "metadata": {},
          "execution_count": 95
        }
      ]
    },
    {
      "cell_type": "code",
      "source": [
        "s=set(l)\n",
        "s"
      ],
      "metadata": {
        "colab": {
          "base_uri": "https://localhost:8080/"
        },
        "id": "D-Rsr98q83vu",
        "outputId": "f5784064-ba6e-4323-cc70-b33631bc6c48"
      },
      "execution_count": 96,
      "outputs": [
        {
          "output_type": "execute_result",
          "data": {
            "text/plain": [
              "{1, 2}"
            ]
          },
          "metadata": {},
          "execution_count": 96
        }
      ]
    },
    {
      "cell_type": "code",
      "source": [
        "l1=[1,2,3,4,5]\n",
        "l2=[2,3,4,5,6]\n",
        "s1=set(l1)\n",
        "s2=set(l2)\n",
        "s3=s1-s2\n",
        "s3"
      ],
      "metadata": {
        "colab": {
          "base_uri": "https://localhost:8080/"
        },
        "id": "OqrSprXf9WLO",
        "outputId": "69c53599-a33e-4543-9d19-01518067420e"
      },
      "execution_count": 99,
      "outputs": [
        {
          "output_type": "execute_result",
          "data": {
            "text/plain": [
              "{1}"
            ]
          },
          "metadata": {},
          "execution_count": 99
        }
      ]
    },
    {
      "cell_type": "markdown",
      "source": [
        "#Tuble\n"
      ],
      "metadata": {
        "id": "TPRH2DCF91ad"
      }
    },
    {
      "cell_type": "code",
      "source": [
        "t=(1,2,3,4,5)\n",
        "t"
      ],
      "metadata": {
        "colab": {
          "base_uri": "https://localhost:8080/"
        },
        "id": "Zt3nV4Wk92_I",
        "outputId": "8889d71d-e34f-4134-82e3-d739e670cc13"
      },
      "execution_count": 100,
      "outputs": [
        {
          "output_type": "execute_result",
          "data": {
            "text/plain": [
              "(1, 2, 3, 4, 5)"
            ]
          },
          "metadata": {},
          "execution_count": 100
        }
      ]
    },
    {
      "cell_type": "code",
      "source": [
        "t[0]"
      ],
      "metadata": {
        "colab": {
          "base_uri": "https://localhost:8080/"
        },
        "id": "SEkjeWgX-AZU",
        "outputId": "f7c10a94-fb39-409d-afee-908c91e90158"
      },
      "execution_count": 101,
      "outputs": [
        {
          "output_type": "execute_result",
          "data": {
            "text/plain": [
              "1"
            ]
          },
          "metadata": {},
          "execution_count": 101
        }
      ]
    },
    {
      "cell_type": "markdown",
      "source": [
        "#Array"
      ],
      "metadata": {
        "id": "cjSk9tUz-TW4"
      }
    },
    {
      "cell_type": "code",
      "source": [
        "import numpy as np\n",
        "#1D Array\n",
        "ar=np.array([1,2,3,4.5,5,False,\"hi\"])\n",
        "ar"
      ],
      "metadata": {
        "colab": {
          "base_uri": "https://localhost:8080/"
        },
        "id": "CvEVwsEm-Uwc",
        "outputId": "ffb5bdce-c54d-4967-f26e-31a6f7b8381f"
      },
      "execution_count": 107,
      "outputs": [
        {
          "output_type": "execute_result",
          "data": {
            "text/plain": [
              "array(['1', '2', '3', '4.5', '5', 'False', 'hi'], dtype='<U32')"
            ]
          },
          "metadata": {},
          "execution_count": 107
        }
      ]
    },
    {
      "cell_type": "code",
      "source": [
        "#2D Array\n",
        "ar2=np.array([[1,2,3],[4,50,6],[7, 8, 20]])\n",
        "ar2"
      ],
      "metadata": {
        "colab": {
          "base_uri": "https://localhost:8080/"
        },
        "id": "WRtHIc0AGBbY",
        "outputId": "1bf9d667-9232-40ac-825e-89215214432d"
      },
      "execution_count": 145,
      "outputs": [
        {
          "output_type": "execute_result",
          "data": {
            "text/plain": [
              "array([[ 1,  2,  3],\n",
              "       [ 4, 50,  6],\n",
              "       [ 7,  8, 20]])"
            ]
          },
          "metadata": {},
          "execution_count": 145
        }
      ]
    },
    {
      "cell_type": "code",
      "source": [
        "ar2.shape"
      ],
      "metadata": {
        "colab": {
          "base_uri": "https://localhost:8080/"
        },
        "id": "USFjGIDnGiOw",
        "outputId": "8f5134bf-d9fa-48f7-d351-02c53128622e"
      },
      "execution_count": 109,
      "outputs": [
        {
          "output_type": "execute_result",
          "data": {
            "text/plain": [
              "(2, 3)"
            ]
          },
          "metadata": {},
          "execution_count": 109
        }
      ]
    },
    {
      "cell_type": "code",
      "source": [
        "ar2[0,0]"
      ],
      "metadata": {
        "colab": {
          "base_uri": "https://localhost:8080/"
        },
        "id": "Je60LCWZGxZN",
        "outputId": "51ba212c-6317-454c-c09f-5cc0603cd525"
      },
      "execution_count": 121,
      "outputs": [
        {
          "output_type": "execute_result",
          "data": {
            "text/plain": [
              "1"
            ]
          },
          "metadata": {},
          "execution_count": 121
        }
      ]
    },
    {
      "cell_type": "code",
      "source": [
        "ar2[1:4]"
      ],
      "metadata": {
        "colab": {
          "base_uri": "https://localhost:8080/"
        },
        "id": "WoBCVOAtHLLe",
        "outputId": "8bc96008-6e2b-4e9a-8166-5c42c5d8ebcc"
      },
      "execution_count": 127,
      "outputs": [
        {
          "output_type": "execute_result",
          "data": {
            "text/plain": [
              "array([[4, 5, 6],\n",
              "       [7, 8, 9]])"
            ]
          },
          "metadata": {},
          "execution_count": 127
        }
      ]
    },
    {
      "cell_type": "code",
      "source": [
        "ar2[0,:]"
      ],
      "metadata": {
        "colab": {
          "base_uri": "https://localhost:8080/"
        },
        "id": "Oxw_P6VxIIv2",
        "outputId": "ad77400b-39d6-4045-8090-a27ca7cbf1b4"
      },
      "execution_count": 135,
      "outputs": [
        {
          "output_type": "execute_result",
          "data": {
            "text/plain": [
              "array([1, 2, 3])"
            ]
          },
          "metadata": {},
          "execution_count": 135
        }
      ]
    },
    {
      "cell_type": "code",
      "source": [
        "ar2.argmax()"
      ],
      "metadata": {
        "colab": {
          "base_uri": "https://localhost:8080/"
        },
        "id": "lC_AFmgqIsbq",
        "outputId": "18ce3d22-7465-479d-c785-a4ee844d3838"
      },
      "execution_count": 146,
      "outputs": [
        {
          "output_type": "execute_result",
          "data": {
            "text/plain": [
              "4"
            ]
          },
          "metadata": {},
          "execution_count": 146
        }
      ]
    },
    {
      "cell_type": "code",
      "source": [
        "ar2.argmin()"
      ],
      "metadata": {
        "colab": {
          "base_uri": "https://localhost:8080/"
        },
        "id": "AQWFfPcuI3tP",
        "outputId": "f2af97ab-f937-44f7-d003-ab2ee56edc52"
      },
      "execution_count": 144,
      "outputs": [
        {
          "output_type": "execute_result",
          "data": {
            "text/plain": [
              "0"
            ]
          },
          "metadata": {},
          "execution_count": 144
        }
      ]
    },
    {
      "cell_type": "code",
      "source": [
        "a=np.ones((3,3))\n",
        "a"
      ],
      "metadata": {
        "colab": {
          "base_uri": "https://localhost:8080/"
        },
        "id": "OzY3lfPqJksD",
        "outputId": "26fbb86b-d1d6-4992-ce15-07dd29a316f6"
      },
      "execution_count": 148,
      "outputs": [
        {
          "output_type": "execute_result",
          "data": {
            "text/plain": [
              "array([[1., 1., 1.],\n",
              "       [1., 1., 1.],\n",
              "       [1., 1., 1.]])"
            ]
          },
          "metadata": {},
          "execution_count": 148
        }
      ]
    },
    {
      "cell_type": "code",
      "source": [
        "import pandas as pd\n",
        "arr_2D = np.array([['house', 2, 'S', 'yes'],\n",
        "                   ['apartment', 1, 'N', 'no'],\n",
        "                   ['villa', 5, 'M', 'yes'],\n",
        "                   ['villa', 3, 'L', 'yes'],\n",
        "                   ['house', 'nan', 'N', 'yes'],\n",
        "                   ['villa', 3, 'N', 'no'],\n",
        "                   ['apartment', 2, 'M', 'no'],\n",
        "                   ['apartment', 'nan', 'S', 'no'],\n",
        "                   ['house', 2, 'S', 'yes'],\n",
        "                   ['house', 3, 'L', 'yes'],\n",
        "                   ['villa', 5, 'L', 'no'],\n",
        "                   ['house', 2, 'N', 'yes'],\n",
        "                   ['house', 4, 'L', 'no'],\n",
        "                   ['house', 'nan', 'N', 'yes'],\n",
        "                   ['house', 3, 'S', 'yes']])"
      ],
      "metadata": {
        "id": "q1975c5uKXIQ"
      },
      "execution_count": 150,
      "outputs": []
    },
    {
      "cell_type": "code",
      "source": [
        "columns = ['type', \"rooms\", 'room_size', 'label']"
      ],
      "metadata": {
        "id": "C24-ktAXLCCG"
      },
      "execution_count": null,
      "outputs": []
    },
    {
      "cell_type": "code",
      "source": [
        "'''\n",
        "Create data frame for this array using pandas library and name the columns as\n",
        "suggested in the columns list , start index from 1 instead of 0 in the dataframe ,\n",
        "try to convert the room size columns to integers and solve the problem of nan values\n",
        "'''"
      ],
      "metadata": {
        "id": "9Qixv0v1LDwF"
      },
      "execution_count": null,
      "outputs": []
    }
  ],
  "metadata": {
    "colab": {
      "provenance": [],
      "authorship_tag": "ABX9TyOhqMwtf7QnCRyDk+lfBQqv",
      "include_colab_link": true
    },
    "kernelspec": {
      "display_name": "Python 3",
      "name": "python3"
    },
    "language_info": {
      "name": "python"
    }
  },
  "nbformat": 4,
  "nbformat_minor": 0
}